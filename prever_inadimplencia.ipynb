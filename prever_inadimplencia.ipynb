{
 "cells": [
  {
   "cell_type": "code",
   "execution_count": 1,
   "id": "93c4cef9-51ce-45b8-b1dc-9c376c86c625",
   "metadata": {},
   "outputs": [],
   "source": [
    "import pandas as pd\n",
    "from sklearn.preprocessing import LabelEncoder, StandardScaler\n",
    "from sklearn.model_selection import train_test_split\n",
    "from sklearn.linear_model import LogisticRegression\n",
    "from sklearn.ensemble import RandomForestClassifier\n",
    "from sklearn.metrics import confusion_matrix, classification_report"
   ]
  },
  {
   "cell_type": "code",
   "execution_count": 2,
   "id": "7e89c7b1-2f45-4cef-b2b5-7b91ba3eb02e",
   "metadata": {},
   "outputs": [],
   "source": [
    "# Formato do caminho_arquivo: 'C:/exemplo/exemplo/exemplo/exemplo/'\n",
    "caminho_arquivo = 'C:/exemplo/exemplo/exemplo/exemplo/'\n",
    "caminho_base_cadastral = f'{caminho_arquivo}base_cadastral.csv'\n",
    "caminho_base_info = f'{caminho_arquivo}base_info.csv'\n",
    "caminho_base_pagamentos_desenvolvimento = f'{caminho_arquivo}base_pagamentos_desenvolvimento.csv'\n",
    "caminho_base_pagamentos_teste = f'{caminho_arquivo}base_pagamentos_teste.csv'\n",
    "\n",
    "df_cadastral = pd.read_csv(caminho_base_cadastral, sep=';', encoding='utf-8')\n",
    "df_info = pd.read_csv(caminho_base_info, sep=';', encoding='utf-8')\n",
    "df_pagamentos_desenvolvimento = pd.read_csv(caminho_base_pagamentos_desenvolvimento, sep=';', encoding='utf-8')\n",
    "df_pagamentos_teste = pd.read_csv(caminho_base_pagamentos_teste, sep=';', encoding='utf-8')"
   ]
  },
  {
   "cell_type": "code",
   "execution_count": 3,
   "id": "5199050c-d626-4c28-91da-c569d1648710",
   "metadata": {},
   "outputs": [
    {
     "data": {
      "text/html": [
       "<div>\n",
       "<style scoped>\n",
       "    .dataframe tbody tr th:only-of-type {\n",
       "        vertical-align: middle;\n",
       "    }\n",
       "\n",
       "    .dataframe tbody tr th {\n",
       "        vertical-align: top;\n",
       "    }\n",
       "\n",
       "    .dataframe thead th {\n",
       "        text-align: right;\n",
       "    }\n",
       "</style>\n",
       "<table border=\"1\" class=\"dataframe\">\n",
       "  <thead>\n",
       "    <tr style=\"text-align: right;\">\n",
       "      <th></th>\n",
       "      <th>ID_CLIENTE</th>\n",
       "      <th>DATA_CADASTRO</th>\n",
       "      <th>DDD</th>\n",
       "      <th>FLAG_PF</th>\n",
       "      <th>SEGMENTO_INDUSTRIAL</th>\n",
       "      <th>DOMINIO_EMAIL</th>\n",
       "      <th>PORTE</th>\n",
       "      <th>CEP_2_DIG</th>\n",
       "    </tr>\n",
       "  </thead>\n",
       "  <tbody>\n",
       "    <tr>\n",
       "      <th>0</th>\n",
       "      <td>1661240395903230676</td>\n",
       "      <td>2013-08-22</td>\n",
       "      <td>99</td>\n",
       "      <td>NaN</td>\n",
       "      <td>Serviços</td>\n",
       "      <td>YAHOO</td>\n",
       "      <td>PEQUENO</td>\n",
       "      <td>65</td>\n",
       "    </tr>\n",
       "    <tr>\n",
       "      <th>1</th>\n",
       "      <td>8274986328479596038</td>\n",
       "      <td>2017-01-25</td>\n",
       "      <td>31</td>\n",
       "      <td>NaN</td>\n",
       "      <td>Comércio</td>\n",
       "      <td>YAHOO</td>\n",
       "      <td>MEDIO</td>\n",
       "      <td>77</td>\n",
       "    </tr>\n",
       "    <tr>\n",
       "      <th>2</th>\n",
       "      <td>345447888460137901</td>\n",
       "      <td>2000-08-15</td>\n",
       "      <td>75</td>\n",
       "      <td>NaN</td>\n",
       "      <td>Serviços</td>\n",
       "      <td>HOTMAIL</td>\n",
       "      <td>PEQUENO</td>\n",
       "      <td>48</td>\n",
       "    </tr>\n",
       "    <tr>\n",
       "      <th>3</th>\n",
       "      <td>1003144834589372198</td>\n",
       "      <td>2017-08-06</td>\n",
       "      <td>49</td>\n",
       "      <td>NaN</td>\n",
       "      <td>Serviços</td>\n",
       "      <td>OUTLOOK</td>\n",
       "      <td>PEQUENO</td>\n",
       "      <td>89</td>\n",
       "    </tr>\n",
       "    <tr>\n",
       "      <th>4</th>\n",
       "      <td>324916756972236008</td>\n",
       "      <td>2011-02-14</td>\n",
       "      <td>88</td>\n",
       "      <td>NaN</td>\n",
       "      <td>Serviços</td>\n",
       "      <td>GMAIL</td>\n",
       "      <td>GRANDE</td>\n",
       "      <td>62</td>\n",
       "    </tr>\n",
       "  </tbody>\n",
       "</table>\n",
       "</div>"
      ],
      "text/plain": [
       "            ID_CLIENTE DATA_CADASTRO DDD FLAG_PF SEGMENTO_INDUSTRIAL  \\\n",
       "0  1661240395903230676    2013-08-22  99     NaN            Serviços   \n",
       "1  8274986328479596038    2017-01-25  31     NaN            Comércio   \n",
       "2   345447888460137901    2000-08-15  75     NaN            Serviços   \n",
       "3  1003144834589372198    2017-08-06  49     NaN            Serviços   \n",
       "4   324916756972236008    2011-02-14  88     NaN            Serviços   \n",
       "\n",
       "  DOMINIO_EMAIL    PORTE CEP_2_DIG  \n",
       "0         YAHOO  PEQUENO        65  \n",
       "1         YAHOO    MEDIO        77  \n",
       "2       HOTMAIL  PEQUENO        48  \n",
       "3       OUTLOOK  PEQUENO        89  \n",
       "4         GMAIL   GRANDE        62  "
      ]
     },
     "execution_count": 3,
     "metadata": {},
     "output_type": "execute_result"
    }
   ],
   "source": [
    "# ANÁLISE EXPLORATÓRIA E PRÉ-PROCESSAMENTO (df_cadastral, df_info, df_pagamentos_desenvolvimento)\n",
    "df_cadastral.head()"
   ]
  },
  {
   "cell_type": "code",
   "execution_count": 4,
   "id": "42b0bdf5-a1c6-444b-83c4-ec0571d72363",
   "metadata": {},
   "outputs": [
    {
     "name": "stdout",
     "output_type": "stream",
     "text": [
      "<class 'pandas.core.frame.DataFrame'>\n",
      "RangeIndex: 1315 entries, 0 to 1314\n",
      "Data columns (total 8 columns):\n",
      " #   Column               Non-Null Count  Dtype \n",
      "---  ------               --------------  ----- \n",
      " 0   ID_CLIENTE           1315 non-null   int64 \n",
      " 1   DATA_CADASTRO        1315 non-null   object\n",
      " 2   DDD                  1078 non-null   object\n",
      " 3   FLAG_PF              66 non-null     object\n",
      " 4   SEGMENTO_INDUSTRIAL  1232 non-null   object\n",
      " 5   DOMINIO_EMAIL        1285 non-null   object\n",
      " 6   PORTE                1274 non-null   object\n",
      " 7   CEP_2_DIG            1315 non-null   object\n",
      "dtypes: int64(1), object(7)\n",
      "memory usage: 82.3+ KB\n"
     ]
    }
   ],
   "source": [
    "df_cadastral.info()"
   ]
  },
  {
   "cell_type": "code",
   "execution_count": 5,
   "id": "28451e02-7a1c-4bb1-9840-6b4d23ef4fb7",
   "metadata": {},
   "outputs": [],
   "source": [
    "# não vou usar DDD por não ser específica geograficamente, FLAG_PF ser desbalanceada\n",
    "df_cadastral.drop(['DDD','FLAG_PF'], axis=1, inplace=True)\n",
    "\n",
    "df_cadastral['CEP_2_DIG'] = pd.to_numeric(df_cadastral['CEP_2_DIG'], errors='coerce').astype('Int64')\n",
    "df_cadastral['DATA_CADASTRO'] = pd.to_datetime(df_cadastral['DATA_CADASTRO'])"
   ]
  },
  {
   "cell_type": "code",
   "execution_count": 6,
   "id": "f43222f1-c35c-41ed-bcb9-83bdb27c6d69",
   "metadata": {},
   "outputs": [
    {
     "name": "stdout",
     "output_type": "stream",
     "text": [
      "<class 'pandas.core.frame.DataFrame'>\n",
      "RangeIndex: 1315 entries, 0 to 1314\n",
      "Data columns (total 6 columns):\n",
      " #   Column               Non-Null Count  Dtype         \n",
      "---  ------               --------------  -----         \n",
      " 0   ID_CLIENTE           1315 non-null   int64         \n",
      " 1   DATA_CADASTRO        1315 non-null   datetime64[ns]\n",
      " 2   SEGMENTO_INDUSTRIAL  1232 non-null   object        \n",
      " 3   DOMINIO_EMAIL        1285 non-null   object        \n",
      " 4   PORTE                1274 non-null   object        \n",
      " 5   CEP_2_DIG            1314 non-null   Int64         \n",
      "dtypes: Int64(1), datetime64[ns](1), int64(1), object(3)\n",
      "memory usage: 63.1+ KB\n"
     ]
    }
   ],
   "source": [
    "df_cadastral.info()"
   ]
  },
  {
   "cell_type": "code",
   "execution_count": 7,
   "id": "530e23e8-d235-401d-a2e4-56200aa5a47a",
   "metadata": {},
   "outputs": [
    {
     "data": {
      "text/html": [
       "<div>\n",
       "<style scoped>\n",
       "    .dataframe tbody tr th:only-of-type {\n",
       "        vertical-align: middle;\n",
       "    }\n",
       "\n",
       "    .dataframe tbody tr th {\n",
       "        vertical-align: top;\n",
       "    }\n",
       "\n",
       "    .dataframe thead th {\n",
       "        text-align: right;\n",
       "    }\n",
       "</style>\n",
       "<table border=\"1\" class=\"dataframe\">\n",
       "  <thead>\n",
       "    <tr style=\"text-align: right;\">\n",
       "      <th></th>\n",
       "      <th>ID_CLIENTE</th>\n",
       "      <th>SAFRA_REF</th>\n",
       "      <th>RENDA_MES_ANTERIOR</th>\n",
       "      <th>NO_FUNCIONARIOS</th>\n",
       "    </tr>\n",
       "  </thead>\n",
       "  <tbody>\n",
       "    <tr>\n",
       "      <th>0</th>\n",
       "      <td>1661240395903230676</td>\n",
       "      <td>2018-09</td>\n",
       "      <td>16913.0</td>\n",
       "      <td>NaN</td>\n",
       "    </tr>\n",
       "    <tr>\n",
       "      <th>1</th>\n",
       "      <td>8274986328479596038</td>\n",
       "      <td>2018-09</td>\n",
       "      <td>106430.0</td>\n",
       "      <td>141.0</td>\n",
       "    </tr>\n",
       "    <tr>\n",
       "      <th>2</th>\n",
       "      <td>345447888460137901</td>\n",
       "      <td>2018-09</td>\n",
       "      <td>707439.0</td>\n",
       "      <td>99.0</td>\n",
       "    </tr>\n",
       "    <tr>\n",
       "      <th>3</th>\n",
       "      <td>1003144834589372198</td>\n",
       "      <td>2018-09</td>\n",
       "      <td>239659.0</td>\n",
       "      <td>96.0</td>\n",
       "    </tr>\n",
       "    <tr>\n",
       "      <th>4</th>\n",
       "      <td>324916756972236008</td>\n",
       "      <td>2018-09</td>\n",
       "      <td>203123.0</td>\n",
       "      <td>103.0</td>\n",
       "    </tr>\n",
       "  </tbody>\n",
       "</table>\n",
       "</div>"
      ],
      "text/plain": [
       "            ID_CLIENTE SAFRA_REF  RENDA_MES_ANTERIOR  NO_FUNCIONARIOS\n",
       "0  1661240395903230676   2018-09             16913.0              NaN\n",
       "1  8274986328479596038   2018-09            106430.0            141.0\n",
       "2   345447888460137901   2018-09            707439.0             99.0\n",
       "3  1003144834589372198   2018-09            239659.0             96.0\n",
       "4   324916756972236008   2018-09            203123.0            103.0"
      ]
     },
     "execution_count": 7,
     "metadata": {},
     "output_type": "execute_result"
    }
   ],
   "source": [
    "df_info.head()"
   ]
  },
  {
   "cell_type": "code",
   "execution_count": 8,
   "id": "95e3f6cc-63eb-4d08-8005-ed6d63f0b763",
   "metadata": {},
   "outputs": [
    {
     "name": "stdout",
     "output_type": "stream",
     "text": [
      "<class 'pandas.core.frame.DataFrame'>\n",
      "RangeIndex: 24401 entries, 0 to 24400\n",
      "Data columns (total 4 columns):\n",
      " #   Column              Non-Null Count  Dtype  \n",
      "---  ------              --------------  -----  \n",
      " 0   ID_CLIENTE          24401 non-null  int64  \n",
      " 1   SAFRA_REF           24401 non-null  object \n",
      " 2   RENDA_MES_ANTERIOR  23684 non-null  float64\n",
      " 3   NO_FUNCIONARIOS     23149 non-null  float64\n",
      "dtypes: float64(2), int64(1), object(1)\n",
      "memory usage: 762.7+ KB\n"
     ]
    }
   ],
   "source": [
    "df_info.info()\n",
    "# NO_FUNCIONARIOS possui aproximadamente 5,13% valores nan "
   ]
  },
  {
   "cell_type": "code",
   "execution_count": 9,
   "id": "209dfad7-852a-472c-bccf-8b143624890d",
   "metadata": {},
   "outputs": [
    {
     "data": {
      "text/html": [
       "<div>\n",
       "<style scoped>\n",
       "    .dataframe tbody tr th:only-of-type {\n",
       "        vertical-align: middle;\n",
       "    }\n",
       "\n",
       "    .dataframe tbody tr th {\n",
       "        vertical-align: top;\n",
       "    }\n",
       "\n",
       "    .dataframe thead th {\n",
       "        text-align: right;\n",
       "    }\n",
       "</style>\n",
       "<table border=\"1\" class=\"dataframe\">\n",
       "  <thead>\n",
       "    <tr style=\"text-align: right;\">\n",
       "      <th></th>\n",
       "      <th>ID_CLIENTE</th>\n",
       "      <th>RENDA_MES_ANTERIOR</th>\n",
       "      <th>NO_FUNCIONARIOS</th>\n",
       "    </tr>\n",
       "  </thead>\n",
       "  <tbody>\n",
       "    <tr>\n",
       "      <th>count</th>\n",
       "      <td>2.440100e+04</td>\n",
       "      <td>2.368400e+04</td>\n",
       "      <td>23149.000000</td>\n",
       "    </tr>\n",
       "    <tr>\n",
       "      <th>mean</th>\n",
       "      <td>4.668214e+18</td>\n",
       "      <td>2.887514e+05</td>\n",
       "      <td>117.799646</td>\n",
       "    </tr>\n",
       "    <tr>\n",
       "      <th>std</th>\n",
       "      <td>2.669294e+18</td>\n",
       "      <td>2.115948e+05</td>\n",
       "      <td>21.464574</td>\n",
       "    </tr>\n",
       "    <tr>\n",
       "      <th>min</th>\n",
       "      <td>8.784237e+15</td>\n",
       "      <td>1.050000e+02</td>\n",
       "      <td>0.000000</td>\n",
       "    </tr>\n",
       "    <tr>\n",
       "      <th>25%</th>\n",
       "      <td>2.347029e+18</td>\n",
       "      <td>1.338662e+05</td>\n",
       "      <td>106.000000</td>\n",
       "    </tr>\n",
       "    <tr>\n",
       "      <th>50%</th>\n",
       "      <td>4.795153e+18</td>\n",
       "      <td>2.409985e+05</td>\n",
       "      <td>118.000000</td>\n",
       "    </tr>\n",
       "    <tr>\n",
       "      <th>75%</th>\n",
       "      <td>7.061869e+18</td>\n",
       "      <td>3.925018e+05</td>\n",
       "      <td>131.000000</td>\n",
       "    </tr>\n",
       "    <tr>\n",
       "      <th>max</th>\n",
       "      <td>9.206031e+18</td>\n",
       "      <td>1.682759e+06</td>\n",
       "      <td>198.000000</td>\n",
       "    </tr>\n",
       "  </tbody>\n",
       "</table>\n",
       "</div>"
      ],
      "text/plain": [
       "         ID_CLIENTE  RENDA_MES_ANTERIOR  NO_FUNCIONARIOS\n",
       "count  2.440100e+04        2.368400e+04     23149.000000\n",
       "mean   4.668214e+18        2.887514e+05       117.799646\n",
       "std    2.669294e+18        2.115948e+05        21.464574\n",
       "min    8.784237e+15        1.050000e+02         0.000000\n",
       "25%    2.347029e+18        1.338662e+05       106.000000\n",
       "50%    4.795153e+18        2.409985e+05       118.000000\n",
       "75%    7.061869e+18        3.925018e+05       131.000000\n",
       "max    9.206031e+18        1.682759e+06       198.000000"
      ]
     },
     "execution_count": 9,
     "metadata": {},
     "output_type": "execute_result"
    }
   ],
   "source": [
    "df_info.describe()"
   ]
  },
  {
   "cell_type": "code",
   "execution_count": 10,
   "id": "ebfb3f6d-2b9d-444a-bbaa-ca425ea33ed3",
   "metadata": {},
   "outputs": [],
   "source": [
    "# NO_FUNCIONARIOS: média e mediana(50%) estão proximos, indicando valores simétricos\n",
    "media_funcionarios = df_info['NO_FUNCIONARIOS'].mean()\n",
    "df_info['NO_FUNCIONARIOS'] = df_info['NO_FUNCIONARIOS'].fillna(int(media_funcionarios))\n",
    "\n",
    "# RENDA_MES_ANTERIOR: média,mediana(50%) e desvio alto, não estão proximos, indicando valores assimétricos\n",
    "mediana_renda_anterior = df_info['RENDA_MES_ANTERIOR'].median()\n",
    "df_info['RENDA_MES_ANTERIOR'] = df_info['RENDA_MES_ANTERIOR'].fillna(int(mediana_renda_anterior))\n",
    "\n",
    "df_info['SAFRA_REF'] = pd.to_datetime(df_info['SAFRA_REF'], format='%Y-%m').dt.to_period('M') "
   ]
  },
  {
   "cell_type": "code",
   "execution_count": 11,
   "id": "0fc5345c-a75c-4087-8ab4-be0f3100a1c9",
   "metadata": {},
   "outputs": [
    {
     "name": "stdout",
     "output_type": "stream",
     "text": [
      "<class 'pandas.core.frame.DataFrame'>\n",
      "RangeIndex: 24401 entries, 0 to 24400\n",
      "Data columns (total 4 columns):\n",
      " #   Column              Non-Null Count  Dtype    \n",
      "---  ------              --------------  -----    \n",
      " 0   ID_CLIENTE          24401 non-null  int64    \n",
      " 1   SAFRA_REF           24401 non-null  period[M]\n",
      " 2   RENDA_MES_ANTERIOR  24401 non-null  float64  \n",
      " 3   NO_FUNCIONARIOS     24401 non-null  float64  \n",
      "dtypes: float64(2), int64(1), period[M](1)\n",
      "memory usage: 762.7 KB\n"
     ]
    }
   ],
   "source": [
    "df_info.info()"
   ]
  },
  {
   "cell_type": "code",
   "execution_count": 12,
   "id": "7ed0cb4a-79aa-4d9e-83b2-f6ac5f6dd4e0",
   "metadata": {},
   "outputs": [
    {
     "data": {
      "text/html": [
       "<div>\n",
       "<style scoped>\n",
       "    .dataframe tbody tr th:only-of-type {\n",
       "        vertical-align: middle;\n",
       "    }\n",
       "\n",
       "    .dataframe tbody tr th {\n",
       "        vertical-align: top;\n",
       "    }\n",
       "\n",
       "    .dataframe thead th {\n",
       "        text-align: right;\n",
       "    }\n",
       "</style>\n",
       "<table border=\"1\" class=\"dataframe\">\n",
       "  <thead>\n",
       "    <tr style=\"text-align: right;\">\n",
       "      <th></th>\n",
       "      <th>ID_CLIENTE</th>\n",
       "      <th>SAFRA_REF</th>\n",
       "      <th>DATA_EMISSAO_DOCUMENTO</th>\n",
       "      <th>DATA_PAGAMENTO</th>\n",
       "      <th>DATA_VENCIMENTO</th>\n",
       "      <th>VALOR_A_PAGAR</th>\n",
       "      <th>TAXA</th>\n",
       "    </tr>\n",
       "  </thead>\n",
       "  <tbody>\n",
       "    <tr>\n",
       "      <th>0</th>\n",
       "      <td>1661240395903230676</td>\n",
       "      <td>2018-08</td>\n",
       "      <td>2018-08-17</td>\n",
       "      <td>2018-09-06</td>\n",
       "      <td>2018-09-06</td>\n",
       "      <td>35516.41</td>\n",
       "      <td>6.99</td>\n",
       "    </tr>\n",
       "    <tr>\n",
       "      <th>1</th>\n",
       "      <td>1661240395903230676</td>\n",
       "      <td>2018-08</td>\n",
       "      <td>2018-08-19</td>\n",
       "      <td>2018-09-11</td>\n",
       "      <td>2018-09-10</td>\n",
       "      <td>17758.21</td>\n",
       "      <td>6.99</td>\n",
       "    </tr>\n",
       "    <tr>\n",
       "      <th>2</th>\n",
       "      <td>1661240395903230676</td>\n",
       "      <td>2018-08</td>\n",
       "      <td>2018-08-26</td>\n",
       "      <td>2018-09-18</td>\n",
       "      <td>2018-09-17</td>\n",
       "      <td>17431.96</td>\n",
       "      <td>6.99</td>\n",
       "    </tr>\n",
       "    <tr>\n",
       "      <th>3</th>\n",
       "      <td>1661240395903230676</td>\n",
       "      <td>2018-08</td>\n",
       "      <td>2018-08-30</td>\n",
       "      <td>2018-10-11</td>\n",
       "      <td>2018-10-05</td>\n",
       "      <td>1341.00</td>\n",
       "      <td>6.99</td>\n",
       "    </tr>\n",
       "    <tr>\n",
       "      <th>4</th>\n",
       "      <td>1661240395903230676</td>\n",
       "      <td>2018-08</td>\n",
       "      <td>2018-08-31</td>\n",
       "      <td>2018-09-20</td>\n",
       "      <td>2018-09-20</td>\n",
       "      <td>21309.85</td>\n",
       "      <td>6.99</td>\n",
       "    </tr>\n",
       "  </tbody>\n",
       "</table>\n",
       "</div>"
      ],
      "text/plain": [
       "            ID_CLIENTE SAFRA_REF DATA_EMISSAO_DOCUMENTO DATA_PAGAMENTO  \\\n",
       "0  1661240395903230676   2018-08             2018-08-17     2018-09-06   \n",
       "1  1661240395903230676   2018-08             2018-08-19     2018-09-11   \n",
       "2  1661240395903230676   2018-08             2018-08-26     2018-09-18   \n",
       "3  1661240395903230676   2018-08             2018-08-30     2018-10-11   \n",
       "4  1661240395903230676   2018-08             2018-08-31     2018-09-20   \n",
       "\n",
       "  DATA_VENCIMENTO  VALOR_A_PAGAR  TAXA  \n",
       "0      2018-09-06       35516.41  6.99  \n",
       "1      2018-09-10       17758.21  6.99  \n",
       "2      2018-09-17       17431.96  6.99  \n",
       "3      2018-10-05        1341.00  6.99  \n",
       "4      2018-09-20       21309.85  6.99  "
      ]
     },
     "execution_count": 12,
     "metadata": {},
     "output_type": "execute_result"
    }
   ],
   "source": [
    "df_pagamentos_desenvolvimento.head()"
   ]
  },
  {
   "cell_type": "code",
   "execution_count": 13,
   "id": "85150777-062a-401f-9e54-cc8ae346c61d",
   "metadata": {},
   "outputs": [
    {
     "name": "stdout",
     "output_type": "stream",
     "text": [
      "<class 'pandas.core.frame.DataFrame'>\n",
      "RangeIndex: 77414 entries, 0 to 77413\n",
      "Data columns (total 7 columns):\n",
      " #   Column                  Non-Null Count  Dtype  \n",
      "---  ------                  --------------  -----  \n",
      " 0   ID_CLIENTE              77414 non-null  int64  \n",
      " 1   SAFRA_REF               77414 non-null  object \n",
      " 2   DATA_EMISSAO_DOCUMENTO  77414 non-null  object \n",
      " 3   DATA_PAGAMENTO          77414 non-null  object \n",
      " 4   DATA_VENCIMENTO         77414 non-null  object \n",
      " 5   VALOR_A_PAGAR           76244 non-null  float64\n",
      " 6   TAXA                    77414 non-null  float64\n",
      "dtypes: float64(2), int64(1), object(4)\n",
      "memory usage: 4.1+ MB\n"
     ]
    }
   ],
   "source": [
    "df_pagamentos_desenvolvimento.info()\n",
    "# VALOR_A_PAGAR possui aproximadamente 1,51% valores nan"
   ]
  },
  {
   "cell_type": "code",
   "execution_count": 14,
   "id": "9363123a-913c-4255-aff8-3289e221c589",
   "metadata": {},
   "outputs": [],
   "source": [
    "df_pagamentos_desenvolvimento['SAFRA_REF'] = pd.to_datetime(df_pagamentos_desenvolvimento['SAFRA_REF'], format='%Y-%m').dt.to_period('M') \n",
    "df_pagamentos_desenvolvimento['DATA_PAGAMENTO'] = pd.to_datetime(df_pagamentos_desenvolvimento['DATA_PAGAMENTO'])\n",
    "df_pagamentos_desenvolvimento['DATA_VENCIMENTO'] = pd.to_datetime(df_pagamentos_desenvolvimento['DATA_VENCIMENTO'])"
   ]
  },
  {
   "cell_type": "code",
   "execution_count": 15,
   "id": "47ef425a-527b-4f09-b693-7ea1753c009c",
   "metadata": {},
   "outputs": [
    {
     "data": {
      "text/html": [
       "<div>\n",
       "<style scoped>\n",
       "    .dataframe tbody tr th:only-of-type {\n",
       "        vertical-align: middle;\n",
       "    }\n",
       "\n",
       "    .dataframe tbody tr th {\n",
       "        vertical-align: top;\n",
       "    }\n",
       "\n",
       "    .dataframe thead th {\n",
       "        text-align: right;\n",
       "    }\n",
       "</style>\n",
       "<table border=\"1\" class=\"dataframe\">\n",
       "  <thead>\n",
       "    <tr style=\"text-align: right;\">\n",
       "      <th></th>\n",
       "      <th>DATA_PAGAMENTO</th>\n",
       "      <th>DATA_VENCIMENTO</th>\n",
       "      <th>DIAS_ATRASO</th>\n",
       "      <th>INADIMPLENTE</th>\n",
       "    </tr>\n",
       "  </thead>\n",
       "  <tbody>\n",
       "    <tr>\n",
       "      <th>0</th>\n",
       "      <td>2018-09-06</td>\n",
       "      <td>2018-09-06</td>\n",
       "      <td>0</td>\n",
       "      <td>0</td>\n",
       "    </tr>\n",
       "    <tr>\n",
       "      <th>1</th>\n",
       "      <td>2018-09-11</td>\n",
       "      <td>2018-09-10</td>\n",
       "      <td>1</td>\n",
       "      <td>0</td>\n",
       "    </tr>\n",
       "    <tr>\n",
       "      <th>2</th>\n",
       "      <td>2018-09-18</td>\n",
       "      <td>2018-09-17</td>\n",
       "      <td>1</td>\n",
       "      <td>0</td>\n",
       "    </tr>\n",
       "    <tr>\n",
       "      <th>3</th>\n",
       "      <td>2018-10-11</td>\n",
       "      <td>2018-10-05</td>\n",
       "      <td>6</td>\n",
       "      <td>1</td>\n",
       "    </tr>\n",
       "    <tr>\n",
       "      <th>4</th>\n",
       "      <td>2018-09-20</td>\n",
       "      <td>2018-09-20</td>\n",
       "      <td>0</td>\n",
       "      <td>0</td>\n",
       "    </tr>\n",
       "  </tbody>\n",
       "</table>\n",
       "</div>"
      ],
      "text/plain": [
       "  DATA_PAGAMENTO DATA_VENCIMENTO  DIAS_ATRASO  INADIMPLENTE\n",
       "0     2018-09-06      2018-09-06            0             0\n",
       "1     2018-09-11      2018-09-10            1             0\n",
       "2     2018-09-18      2018-09-17            1             0\n",
       "3     2018-10-11      2018-10-05            6             1\n",
       "4     2018-09-20      2018-09-20            0             0"
      ]
     },
     "execution_count": 15,
     "metadata": {},
     "output_type": "execute_result"
    }
   ],
   "source": [
    "# CRIAÇÃO DO TARGET \n",
    "# cálculo de dias de atraso\n",
    "df_pagamentos_desenvolvimento['DIAS_ATRASO'] = (df_pagamentos_desenvolvimento['DATA_PAGAMENTO'] - df_pagamentos_desenvolvimento['DATA_VENCIMENTO']).dt.days\n",
    "df_pagamentos_desenvolvimento['INADIMPLENTE'] = (df_pagamentos_desenvolvimento['DIAS_ATRASO'] >= 5).astype(int)\n",
    "\n",
    "df_pagamentos_desenvolvimento[['DATA_PAGAMENTO','DATA_VENCIMENTO','DIAS_ATRASO', 'INADIMPLENTE']].head()"
   ]
  },
  {
   "cell_type": "code",
   "execution_count": 16,
   "id": "e6fd6b06-df46-4acb-ad0b-66566c6a2224",
   "metadata": {},
   "outputs": [
    {
     "name": "stdout",
     "output_type": "stream",
     "text": [
      "<class 'pandas.core.frame.DataFrame'>\n",
      "RangeIndex: 77414 entries, 0 to 77413\n",
      "Data columns (total 9 columns):\n",
      " #   Column                  Non-Null Count  Dtype         \n",
      "---  ------                  --------------  -----         \n",
      " 0   ID_CLIENTE              77414 non-null  int64         \n",
      " 1   SAFRA_REF               77414 non-null  period[M]     \n",
      " 2   DATA_EMISSAO_DOCUMENTO  77414 non-null  object        \n",
      " 3   DATA_PAGAMENTO          77414 non-null  datetime64[ns]\n",
      " 4   DATA_VENCIMENTO         77414 non-null  datetime64[ns]\n",
      " 5   VALOR_A_PAGAR           76244 non-null  float64       \n",
      " 6   TAXA                    77414 non-null  float64       \n",
      " 7   DIAS_ATRASO             77414 non-null  int64         \n",
      " 8   INADIMPLENTE            77414 non-null  int32         \n",
      "dtypes: datetime64[ns](2), float64(2), int32(1), int64(2), object(1), period[M](1)\n",
      "memory usage: 5.0+ MB\n"
     ]
    }
   ],
   "source": [
    "df_pagamentos_desenvolvimento.info()"
   ]
  },
  {
   "cell_type": "code",
   "execution_count": 17,
   "id": "94ebded8-fc79-4383-9b6c-8e1b18ffce1f",
   "metadata": {},
   "outputs": [
    {
     "data": {
      "text/plain": [
       "INADIMPLENTE\n",
       "0    71978\n",
       "1     5436\n",
       "Name: INADIMPLENTE, dtype: int64"
      ]
     },
     "execution_count": 17,
     "metadata": {},
     "output_type": "execute_result"
    }
   ],
   "source": [
    "df_pagamentos_desenvolvimento.groupby('INADIMPLENTE')['INADIMPLENTE'].count()\n",
    "# variável target desbalanceada\n",
    "# provalvemente o modelo não consiga detectar muito bem os valores 1 sendo apenas 7,02%"
   ]
  },
  {
   "cell_type": "code",
   "execution_count": 18,
   "id": "6a6f51e1-4b17-4ddc-9cb8-3f27f97d3151",
   "metadata": {},
   "outputs": [],
   "source": [
    "df_base = pd.merge(df_pagamentos_desenvolvimento, df_cadastral, on='ID_CLIENTE', how='left')\n",
    "df_base = pd.merge(df_base, df_info, on=['ID_CLIENTE', 'SAFRA_REF'], how='left')"
   ]
  },
  {
   "cell_type": "code",
   "execution_count": 19,
   "id": "a22b7c9b-25cf-4d9d-af2d-3e96738ee082",
   "metadata": {},
   "outputs": [
    {
     "name": "stdout",
     "output_type": "stream",
     "text": [
      "<class 'pandas.core.frame.DataFrame'>\n",
      "RangeIndex: 77414 entries, 0 to 77413\n",
      "Data columns (total 16 columns):\n",
      " #   Column                  Non-Null Count  Dtype         \n",
      "---  ------                  --------------  -----         \n",
      " 0   ID_CLIENTE              77414 non-null  int64         \n",
      " 1   SAFRA_REF               77414 non-null  period[M]     \n",
      " 2   DATA_EMISSAO_DOCUMENTO  77414 non-null  object        \n",
      " 3   DATA_PAGAMENTO          77414 non-null  datetime64[ns]\n",
      " 4   DATA_VENCIMENTO         77414 non-null  datetime64[ns]\n",
      " 5   VALOR_A_PAGAR           76244 non-null  float64       \n",
      " 6   TAXA                    77414 non-null  float64       \n",
      " 7   DIAS_ATRASO             77414 non-null  int64         \n",
      " 8   INADIMPLENTE            77414 non-null  int32         \n",
      " 9   DATA_CADASTRO           77414 non-null  datetime64[ns]\n",
      " 10  SEGMENTO_INDUSTRIAL     75997 non-null  object        \n",
      " 11  DOMINIO_EMAIL           76516 non-null  object        \n",
      " 12  PORTE                   74938 non-null  object        \n",
      " 13  CEP_2_DIG               77406 non-null  Int64         \n",
      " 14  RENDA_MES_ANTERIOR      73477 non-null  float64       \n",
      " 15  NO_FUNCIONARIOS         73477 non-null  float64       \n",
      "dtypes: Int64(1), datetime64[ns](3), float64(4), int32(1), int64(2), object(4), period[M](1)\n",
      "memory usage: 9.2+ MB\n"
     ]
    }
   ],
   "source": [
    "df_base.info()"
   ]
  },
  {
   "cell_type": "code",
   "execution_count": 20,
   "id": "b16c1895-725c-4d7b-8677-d90190edfbb0",
   "metadata": {
    "scrolled": true
   },
   "outputs": [
    {
     "data": {
      "text/html": [
       "<div>\n",
       "<style scoped>\n",
       "    .dataframe tbody tr th:only-of-type {\n",
       "        vertical-align: middle;\n",
       "    }\n",
       "\n",
       "    .dataframe tbody tr th {\n",
       "        vertical-align: top;\n",
       "    }\n",
       "\n",
       "    .dataframe thead th {\n",
       "        text-align: right;\n",
       "    }\n",
       "</style>\n",
       "<table border=\"1\" class=\"dataframe\">\n",
       "  <thead>\n",
       "    <tr style=\"text-align: right;\">\n",
       "      <th></th>\n",
       "      <th>VALOR_A_PAGAR</th>\n",
       "      <th>NO_FUNCIONARIOS</th>\n",
       "      <th>TAXA</th>\n",
       "      <th>TEMPO_CLIENTE_MESES</th>\n",
       "      <th>TAXA_JUROS</th>\n",
       "    </tr>\n",
       "  </thead>\n",
       "  <tbody>\n",
       "    <tr>\n",
       "      <th>0</th>\n",
       "      <td>35516.41</td>\n",
       "      <td>NaN</td>\n",
       "      <td>6.99</td>\n",
       "      <td>60</td>\n",
       "      <td>2482.597059</td>\n",
       "    </tr>\n",
       "    <tr>\n",
       "      <th>1</th>\n",
       "      <td>17758.21</td>\n",
       "      <td>NaN</td>\n",
       "      <td>6.99</td>\n",
       "      <td>60</td>\n",
       "      <td>1241.298879</td>\n",
       "    </tr>\n",
       "    <tr>\n",
       "      <th>2</th>\n",
       "      <td>17431.96</td>\n",
       "      <td>NaN</td>\n",
       "      <td>6.99</td>\n",
       "      <td>60</td>\n",
       "      <td>1218.494004</td>\n",
       "    </tr>\n",
       "    <tr>\n",
       "      <th>3</th>\n",
       "      <td>1341.00</td>\n",
       "      <td>NaN</td>\n",
       "      <td>6.99</td>\n",
       "      <td>60</td>\n",
       "      <td>93.735900</td>\n",
       "    </tr>\n",
       "    <tr>\n",
       "      <th>4</th>\n",
       "      <td>21309.85</td>\n",
       "      <td>NaN</td>\n",
       "      <td>6.99</td>\n",
       "      <td>60</td>\n",
       "      <td>1489.558515</td>\n",
       "    </tr>\n",
       "  </tbody>\n",
       "</table>\n",
       "</div>"
      ],
      "text/plain": [
       "   VALOR_A_PAGAR  NO_FUNCIONARIOS  TAXA  TEMPO_CLIENTE_MESES   TAXA_JUROS\n",
       "0       35516.41              NaN  6.99                   60  2482.597059\n",
       "1       17758.21              NaN  6.99                   60  1241.298879\n",
       "2       17431.96              NaN  6.99                   60  1218.494004\n",
       "3        1341.00              NaN  6.99                   60    93.735900\n",
       "4       21309.85              NaN  6.99                   60  1489.558515"
      ]
     },
     "execution_count": 20,
     "metadata": {},
     "output_type": "execute_result"
    }
   ],
   "source": [
    "# tempo de cliente em meses\n",
    "df_base['TEMPO_CLIENTE_MESES'] = ((df_base['SAFRA_REF'].dt.year - df_base['DATA_CADASTRO'].dt.year) * 12 + (df_base['SAFRA_REF'].dt.month - df_base['DATA_CADASTRO'].dt.month))\n",
    "# taxa por valor a pagar\n",
    "df_base['TAXA_JUROS'] = df_base['VALOR_A_PAGAR'] * (df_base['TAXA'] / 100)\n",
    "\n",
    "df_base[['VALOR_A_PAGAR', 'NO_FUNCIONARIOS', 'TAXA', 'TEMPO_CLIENTE_MESES', 'TAXA_JUROS']].head()"
   ]
  },
  {
   "cell_type": "code",
   "execution_count": 21,
   "id": "a02e5cee-9a1a-4093-9f5f-a10e8e48bdf4",
   "metadata": {},
   "outputs": [
    {
     "name": "stdout",
     "output_type": "stream",
     "text": [
      "<class 'pandas.core.frame.DataFrame'>\n",
      "RangeIndex: 77414 entries, 0 to 77413\n",
      "Data columns (total 18 columns):\n",
      " #   Column                  Non-Null Count  Dtype         \n",
      "---  ------                  --------------  -----         \n",
      " 0   ID_CLIENTE              77414 non-null  int64         \n",
      " 1   SAFRA_REF               77414 non-null  period[M]     \n",
      " 2   DATA_EMISSAO_DOCUMENTO  77414 non-null  object        \n",
      " 3   DATA_PAGAMENTO          77414 non-null  datetime64[ns]\n",
      " 4   DATA_VENCIMENTO         77414 non-null  datetime64[ns]\n",
      " 5   VALOR_A_PAGAR           76244 non-null  float64       \n",
      " 6   TAXA                    77414 non-null  float64       \n",
      " 7   DIAS_ATRASO             77414 non-null  int64         \n",
      " 8   INADIMPLENTE            77414 non-null  int32         \n",
      " 9   DATA_CADASTRO           77414 non-null  datetime64[ns]\n",
      " 10  SEGMENTO_INDUSTRIAL     75997 non-null  object        \n",
      " 11  DOMINIO_EMAIL           76516 non-null  object        \n",
      " 12  PORTE                   74938 non-null  object        \n",
      " 13  CEP_2_DIG               77406 non-null  Int64         \n",
      " 14  RENDA_MES_ANTERIOR      73477 non-null  float64       \n",
      " 15  NO_FUNCIONARIOS         73477 non-null  float64       \n",
      " 16  TEMPO_CLIENTE_MESES     77414 non-null  int64         \n",
      " 17  TAXA_JUROS              76244 non-null  float64       \n",
      "dtypes: Int64(1), datetime64[ns](3), float64(5), int32(1), int64(3), object(4), period[M](1)\n",
      "memory usage: 10.4+ MB\n"
     ]
    }
   ],
   "source": [
    "df_base.info()"
   ]
  },
  {
   "cell_type": "code",
   "execution_count": 22,
   "id": "a38bbbe0-1cab-44cf-bd19-684e5625ee84",
   "metadata": {},
   "outputs": [],
   "source": [
    "# encoding de variáveis categóricas\n",
    "le_porte = LabelEncoder()\n",
    "le_segmento = LabelEncoder()\n",
    "\n",
    "df_base['PORTE'] = le_porte.fit_transform(df_base['PORTE'].astype(str))\n",
    "df_base['SEGMENTO_INDUSTRIAL'] = le_segmento.fit_transform(df_base['SEGMENTO_INDUSTRIAL'].astype(str))"
   ]
  },
  {
   "cell_type": "code",
   "execution_count": 23,
   "id": "b268dfcc-3f55-47bd-99bd-8a73582d0e84",
   "metadata": {},
   "outputs": [
    {
     "name": "stdout",
     "output_type": "stream",
     "text": [
      "<class 'pandas.core.frame.DataFrame'>\n",
      "Index: 72364 entries, 17 to 77413\n",
      "Data columns (total 10 columns):\n",
      " #   Column               Non-Null Count  Dtype  \n",
      "---  ------               --------------  -----  \n",
      " 0   RENDA_MES_ANTERIOR   72364 non-null  float64\n",
      " 1   NO_FUNCIONARIOS      72364 non-null  float64\n",
      " 2   PORTE                72364 non-null  int32  \n",
      " 3   CEP_2_DIG            72364 non-null  Int64  \n",
      " 4   VALOR_A_PAGAR        72364 non-null  float64\n",
      " 5   TAXA                 72364 non-null  float64\n",
      " 6   TAXA_JUROS           72364 non-null  float64\n",
      " 7   TEMPO_CLIENTE_MESES  72364 non-null  int64  \n",
      " 8   SEGMENTO_INDUSTRIAL  72364 non-null  int32  \n",
      " 9   INADIMPLENTE         72364 non-null  int32  \n",
      "dtypes: Int64(1), float64(5), int32(3), int64(1)\n",
      "memory usage: 5.3 MB\n"
     ]
    }
   ],
   "source": [
    "recursos = [\n",
    "    'RENDA_MES_ANTERIOR', 'NO_FUNCIONARIOS', 'PORTE', 'CEP_2_DIG',\n",
    "    'VALOR_A_PAGAR', 'TAXA', 'TAXA_JUROS', \n",
    "    'TEMPO_CLIENTE_MESES', 'SEGMENTO_INDUSTRIAL', 'INADIMPLENTE'\n",
    "]\n",
    "\n",
    "df_base_recursos = df_base[recursos].dropna()\n",
    "\n",
    "df_base_recursos.info()\n",
    "# Aproximadamente 6,5% de nan"
   ]
  },
  {
   "cell_type": "code",
   "execution_count": 24,
   "id": "63b90419-5d14-49b2-b494-ba2f2fb74fa2",
   "metadata": {},
   "outputs": [
    {
     "data": {
      "text/plain": [
       "INADIMPLENTE\n",
       "0    71978\n",
       "1     5436\n",
       "Name: INADIMPLENTE, dtype: int64"
      ]
     },
     "execution_count": 24,
     "metadata": {},
     "output_type": "execute_result"
    }
   ],
   "source": [
    "df_base.groupby('INADIMPLENTE')['INADIMPLENTE'].count()"
   ]
  },
  {
   "cell_type": "code",
   "execution_count": 25,
   "id": "352bea88-a5e4-4053-b2b3-5d5e2b619a91",
   "metadata": {},
   "outputs": [
    {
     "data": {
      "text/plain": [
       "INADIMPLENTE\n",
       "0    67353\n",
       "1     5011\n",
       "Name: INADIMPLENTE, dtype: int64"
      ]
     },
     "execution_count": 25,
     "metadata": {},
     "output_type": "execute_result"
    }
   ],
   "source": [
    "df_base_recursos.groupby('INADIMPLENTE')['INADIMPLENTE'].count()\n",
    "# 0 aproximadamete 6,42% de perda\n",
    "# 1 aproximadamete 7,81% de perda"
   ]
  },
  {
   "cell_type": "code",
   "execution_count": 26,
   "id": "4355b355-a855-4fc4-a872-9150a63d63b7",
   "metadata": {},
   "outputs": [
    {
     "name": "stdout",
     "output_type": "stream",
     "text": [
      "              precision    recall  f1-score   support\n",
      "\n",
      "           0       0.96      0.61      0.75     13471\n",
      "           1       0.11      0.67      0.19      1002\n",
      "\n",
      "    accuracy                           0.62     14473\n",
      "   macro avg       0.54      0.64      0.47     14473\n",
      "weighted avg       0.90      0.62      0.71     14473\n",
      "\n"
     ]
    }
   ],
   "source": [
    "# TREINAMENDO E TESTE DOS MODELOS\n",
    "\n",
    "# vou testa os modelos de Regressão Lógistica e Random Forest\n",
    "\n",
    "# Regressão Lógistica\n",
    "X = df_base_recursos.drop('INADIMPLENTE', axis=1) \n",
    "y = df_base_recursos['INADIMPLENTE']\n",
    "\n",
    "X_train, X_test, y_train, y_test = train_test_split(X, y, test_size=0.2, stratify=y, random_state=42)\n",
    "\n",
    "scaler = StandardScaler()\n",
    "X_train_scaled = scaler.fit_transform(X_train)\n",
    "X_test_scaled = scaler.transform(X_test)\n",
    "\n",
    "# criar e treinar o modelo\n",
    "rl = LogisticRegression(random_state=42, class_weight='balanced')\n",
    "rl.fit(X_train_scaled, y_train)\n",
    "\n",
    "y_pred = rl.predict(X_test_scaled)\n",
    "\n",
    "#print(confusion_matrix(y_test, y_pred))\n",
    "print(classification_report(y_test, y_pred))"
   ]
  },
  {
   "cell_type": "code",
   "execution_count": 27,
   "id": "a911f026-3828-4c4b-bca3-22cf12b08045",
   "metadata": {},
   "outputs": [
    {
     "name": "stdout",
     "output_type": "stream",
     "text": [
      "              precision    recall  f1-score   support\n",
      "\n",
      "           0       0.98      0.94      0.96     13471\n",
      "           1       0.45      0.72      0.55      1002\n",
      "\n",
      "    accuracy                           0.92     14473\n",
      "   macro avg       0.71      0.83      0.75     14473\n",
      "weighted avg       0.94      0.92      0.93     14473\n",
      "\n"
     ]
    }
   ],
   "source": [
    "# Random Forest\n",
    "X_train, X_test, y_train, y_test = train_test_split(X, y, test_size=0.2, stratify=y, random_state=42)\n",
    "\n",
    "# criar e treinar o modelo\n",
    "rf = RandomForestClassifier(n_estimators=100, max_depth=10, random_state=42, class_weight='balanced')\n",
    "rf.fit(X_train, y_train)\n",
    "\n",
    "y_proba = rf.predict_proba(X_test)[:, 1]\n",
    "y_pred = rf.predict(X_test)\n",
    "\n",
    "#print(confusion_matrix(y_test, y_pred))\n",
    "print(classification_report(y_test, y_pred))"
   ]
  },
  {
   "cell_type": "code",
   "execution_count": 28,
   "id": "b662f952-f1cb-49f0-b2f4-f836baa6a624",
   "metadata": {},
   "outputs": [
    {
     "data": {
      "text/plain": [
       "'\\nO modelo Random Forest teve um desempenho melhor que o de Regressão Logística.\\n\\nResumo da performance do modelo Random Forest:\\nAcurácia: 92%.\\n\\nPrecisão da classe 1 (inadimplente): 0.45\\nQuando o modelo prever inadimplência, ele acerta 45% das vezes.\\n\\nRecall da classe 1: 0.72\\nO modelo consegue encontrar 72% dos inadimplentes reais — aceitável para ação preventiva, que é o objetivo do case!\\n'"
      ]
     },
     "execution_count": 28,
     "metadata": {},
     "output_type": "execute_result"
    }
   ],
   "source": [
    "'''\n",
    "O modelo Random Forest teve um desempenho melhor que o de Regressão Logística.\n",
    "\n",
    "Resumo da performance do modelo Random Forest:\n",
    "Acurácia: 92%.\n",
    "\n",
    "Precisão da classe 1 (inadimplente): 0.45\n",
    "Quando o modelo prever inadimplência, ele acerta 45% das vezes.\n",
    "\n",
    "Recall da classe 1: 0.72\n",
    "O modelo consegue encontrar 72% dos inadimplentes reais — aceitável para ação preventiva, que é o objetivo do case!\n",
    "'''"
   ]
  },
  {
   "cell_type": "code",
   "execution_count": 29,
   "id": "90eddc6a-7f8e-4bfc-8dbf-86fc188b1a36",
   "metadata": {},
   "outputs": [
    {
     "name": "stdout",
     "output_type": "stream",
     "text": [
      "<class 'pandas.core.frame.DataFrame'>\n",
      "RangeIndex: 12275 entries, 0 to 12274\n",
      "Data columns (total 6 columns):\n",
      " #   Column                  Non-Null Count  Dtype  \n",
      "---  ------                  --------------  -----  \n",
      " 0   ID_CLIENTE              12275 non-null  int64  \n",
      " 1   SAFRA_REF               12275 non-null  object \n",
      " 2   DATA_EMISSAO_DOCUMENTO  12275 non-null  object \n",
      " 3   DATA_VENCIMENTO         12275 non-null  object \n",
      " 4   VALOR_A_PAGAR           12144 non-null  float64\n",
      " 5   TAXA                    12275 non-null  float64\n",
      "dtypes: float64(2), int64(1), object(3)\n",
      "memory usage: 575.5+ KB\n"
     ]
    }
   ],
   "source": [
    "# PREVISÃO NO CONJUNTO DE TESTE\n",
    "df_pagamentos_teste.info()"
   ]
  },
  {
   "cell_type": "code",
   "execution_count": 30,
   "id": "d0aa0110-9b63-4ec8-90f3-cd772bc8e628",
   "metadata": {},
   "outputs": [
    {
     "name": "stdout",
     "output_type": "stream",
     "text": [
      "<class 'pandas.core.frame.DataFrame'>\n",
      "RangeIndex: 12275 entries, 0 to 12274\n",
      "Data columns (total 15 columns):\n",
      " #   Column                  Non-Null Count  Dtype         \n",
      "---  ------                  --------------  -----         \n",
      " 0   ID_CLIENTE              12275 non-null  int64         \n",
      " 1   SAFRA_REF               12275 non-null  period[M]     \n",
      " 2   DATA_EMISSAO_DOCUMENTO  12275 non-null  object        \n",
      " 3   DATA_VENCIMENTO         12275 non-null  object        \n",
      " 4   VALOR_A_PAGAR           12144 non-null  float64       \n",
      " 5   TAXA                    12275 non-null  float64       \n",
      " 6   RENDA_MES_ANTERIOR      11861 non-null  float64       \n",
      " 7   NO_FUNCIONARIOS         11861 non-null  float64       \n",
      " 8   DATA_CADASTRO           12237 non-null  datetime64[ns]\n",
      " 9   SEGMENTO_INDUSTRIAL     12275 non-null  int32         \n",
      " 10  DOMINIO_EMAIL           12067 non-null  object        \n",
      " 11  PORTE                   12275 non-null  int32         \n",
      " 12  CEP_2_DIG               12236 non-null  Int64         \n",
      " 13  TEMPO_CLIENTE_MESES     12237 non-null  float64       \n",
      " 14  TAXA_JUROS              12144 non-null  float64       \n",
      "dtypes: Int64(1), datetime64[ns](1), float64(6), int32(2), int64(1), object(3), period[M](1)\n",
      "memory usage: 1.3+ MB\n"
     ]
    }
   ],
   "source": [
    "# PRÉ-PROCESSAMENTO (df_pagamentos_teste)\n",
    "df_pagamentos_teste['SAFRA_REF'] = pd.to_datetime(df_pagamentos_teste['SAFRA_REF'], format='%Y-%m').dt.to_period('M')  \n",
    "\n",
    "df_pagamentos_previsao = pd.merge(df_pagamentos_teste, df_info, on=['ID_CLIENTE', 'SAFRA_REF'], how='left')\n",
    "df_pagamentos_previsao = pd.merge(df_pagamentos_previsao, df_cadastral, on='ID_CLIENTE', how='left')\n",
    "\n",
    "df_pagamentos_previsao['TEMPO_CLIENTE_MESES'] = ((df_pagamentos_previsao['SAFRA_REF'].dt.year - df_pagamentos_previsao['DATA_CADASTRO'].dt.year) * 12 + (df_pagamentos_previsao['SAFRA_REF'].dt.month - df_pagamentos_previsao['DATA_CADASTRO'].dt.month))\n",
    "df_pagamentos_previsao['TAXA_JUROS'] = df_pagamentos_previsao['VALOR_A_PAGAR'] * df_pagamentos_previsao['TAXA']\n",
    "\n",
    "# Encoding igual ao treino\n",
    "df_pagamentos_previsao['PORTE'] = le_porte.transform(df_pagamentos_previsao['PORTE'].astype(str))\n",
    "df_pagamentos_previsao['SEGMENTO_INDUSTRIAL'] = le_segmento.transform(df_pagamentos_previsao['SEGMENTO_INDUSTRIAL'].astype(str))\n",
    "\n",
    "df_pagamentos_previsao.info()"
   ]
  },
  {
   "cell_type": "code",
   "execution_count": 31,
   "id": "ad3d0ed6-2adb-445d-ad61-54d3566fdafb",
   "metadata": {},
   "outputs": [
    {
     "name": "stdout",
     "output_type": "stream",
     "text": [
      "<class 'pandas.core.frame.DataFrame'>\n",
      "RangeIndex: 12275 entries, 0 to 12274\n",
      "Data columns (total 9 columns):\n",
      " #   Column               Non-Null Count  Dtype  \n",
      "---  ------               --------------  -----  \n",
      " 0   RENDA_MES_ANTERIOR   11861 non-null  float64\n",
      " 1   NO_FUNCIONARIOS      11861 non-null  float64\n",
      " 2   PORTE                12275 non-null  int32  \n",
      " 3   CEP_2_DIG            12236 non-null  Int64  \n",
      " 4   VALOR_A_PAGAR        12144 non-null  float64\n",
      " 5   TAXA                 12275 non-null  float64\n",
      " 6   TAXA_JUROS           12144 non-null  float64\n",
      " 7   TEMPO_CLIENTE_MESES  12237 non-null  float64\n",
      " 8   SEGMENTO_INDUSTRIAL  12275 non-null  int32  \n",
      "dtypes: Int64(1), float64(6), int32(2)\n",
      "memory usage: 779.3 KB\n"
     ]
    }
   ],
   "source": [
    "recursos.remove('INADIMPLENTE')\n",
    "\n",
    "# Previsão\n",
    "X_test = df_pagamentos_previsao[recursos]\n",
    "X_test.info()"
   ]
  },
  {
   "cell_type": "code",
   "execution_count": 32,
   "id": "4817da31-ddd7-41d5-a65e-5a13ecec41b1",
   "metadata": {},
   "outputs": [],
   "source": [
    "df_pagamentos_previsao['PROBABILIDADE_INADIMPLENCIA'] = rf.predict_proba(X_test)[:, 1]\n",
    "\n",
    "df_submissao = df_pagamentos_previsao[['ID_CLIENTE', 'SAFRA_REF', 'PROBABILIDADE_INADIMPLENCIA']]"
   ]
  },
  {
   "cell_type": "code",
   "execution_count": 33,
   "id": "8db516e7-9476-4947-b901-138e5da599ca",
   "metadata": {},
   "outputs": [
    {
     "data": {
      "text/html": [
       "<div>\n",
       "<style scoped>\n",
       "    .dataframe tbody tr th:only-of-type {\n",
       "        vertical-align: middle;\n",
       "    }\n",
       "\n",
       "    .dataframe tbody tr th {\n",
       "        vertical-align: top;\n",
       "    }\n",
       "\n",
       "    .dataframe thead th {\n",
       "        text-align: right;\n",
       "    }\n",
       "</style>\n",
       "<table border=\"1\" class=\"dataframe\">\n",
       "  <thead>\n",
       "    <tr style=\"text-align: right;\">\n",
       "      <th></th>\n",
       "      <th>ID_CLIENTE</th>\n",
       "      <th>SAFRA_REF</th>\n",
       "      <th>PROBABILIDADE_INADIMPLENCIA</th>\n",
       "    </tr>\n",
       "  </thead>\n",
       "  <tbody>\n",
       "    <tr>\n",
       "      <th>0</th>\n",
       "      <td>5058298901476893676</td>\n",
       "      <td>2021-07</td>\n",
       "      <td>0.152451</td>\n",
       "    </tr>\n",
       "    <tr>\n",
       "      <th>1</th>\n",
       "      <td>274692171162531764</td>\n",
       "      <td>2021-07</td>\n",
       "      <td>0.322327</td>\n",
       "    </tr>\n",
       "    <tr>\n",
       "      <th>2</th>\n",
       "      <td>274692171162531764</td>\n",
       "      <td>2021-07</td>\n",
       "      <td>0.322327</td>\n",
       "    </tr>\n",
       "    <tr>\n",
       "      <th>3</th>\n",
       "      <td>274692171162531764</td>\n",
       "      <td>2021-07</td>\n",
       "      <td>0.322327</td>\n",
       "    </tr>\n",
       "    <tr>\n",
       "      <th>4</th>\n",
       "      <td>465309249432033993</td>\n",
       "      <td>2021-07</td>\n",
       "      <td>0.338526</td>\n",
       "    </tr>\n",
       "  </tbody>\n",
       "</table>\n",
       "</div>"
      ],
      "text/plain": [
       "            ID_CLIENTE SAFRA_REF  PROBABILIDADE_INADIMPLENCIA\n",
       "0  5058298901476893676   2021-07                     0.152451\n",
       "1   274692171162531764   2021-07                     0.322327\n",
       "2   274692171162531764   2021-07                     0.322327\n",
       "3   274692171162531764   2021-07                     0.322327\n",
       "4   465309249432033993   2021-07                     0.338526"
      ]
     },
     "execution_count": 33,
     "metadata": {},
     "output_type": "execute_result"
    }
   ],
   "source": [
    "df_submissao.head()"
   ]
  },
  {
   "cell_type": "code",
   "execution_count": 34,
   "id": "c5381fb3-4085-4c35-8ac1-f622dea025a9",
   "metadata": {},
   "outputs": [
    {
     "name": "stdout",
     "output_type": "stream",
     "text": [
      "<class 'pandas.core.frame.DataFrame'>\n",
      "RangeIndex: 12275 entries, 0 to 12274\n",
      "Data columns (total 3 columns):\n",
      " #   Column                       Non-Null Count  Dtype    \n",
      "---  ------                       --------------  -----    \n",
      " 0   ID_CLIENTE                   12275 non-null  int64    \n",
      " 1   SAFRA_REF                    12275 non-null  period[M]\n",
      " 2   PROBABILIDADE_INADIMPLENCIA  12275 non-null  float64  \n",
      "dtypes: float64(1), int64(1), period[M](1)\n",
      "memory usage: 287.8 KB\n"
     ]
    }
   ],
   "source": [
    "df_submissao.info()"
   ]
  },
  {
   "cell_type": "code",
   "execution_count": 35,
   "id": "97b9b393-01bb-4bc8-89dc-1533d4e64b32",
   "metadata": {},
   "outputs": [],
   "source": [
    "df_submissao.to_csv(f'{caminho_arquivo}submissao_case.csv', index=False, sep=';', encoding='utf-8')"
   ]
  }
 ],
 "metadata": {
  "kernelspec": {
   "display_name": "Python 3 (ipykernel)",
   "language": "python",
   "name": "python3"
  },
  "language_info": {
   "codemirror_mode": {
    "name": "ipython",
    "version": 3
   },
   "file_extension": ".py",
   "mimetype": "text/x-python",
   "name": "python",
   "nbconvert_exporter": "python",
   "pygments_lexer": "ipython3",
   "version": "3.12.7"
  }
 },
 "nbformat": 4,
 "nbformat_minor": 5
}
